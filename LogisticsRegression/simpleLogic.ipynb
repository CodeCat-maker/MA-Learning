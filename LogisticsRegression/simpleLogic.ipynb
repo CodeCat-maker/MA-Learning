{
 "cells": [
  {
   "cell_type": "code",
   "execution_count": 57,
   "outputs": [],
   "source": [
    "# 导入包\n",
    "import pandas as pd\n",
    "import matplotlib.pyplot as plt\n",
    "import numpy as np\n",
    "from sklearn.feature_extraction.text import CountVectorizer"
   ],
   "metadata": {
    "collapsed": false,
    "ExecuteTime": {
     "end_time": "2023-11-01T23:21:39.574746200Z",
     "start_time": "2023-11-01T23:21:39.525482900Z"
    }
   },
   "id": "1f085d1165d9e4a1"
  },
  {
   "cell_type": "markdown",
   "source": [
    "## 1.读入文本"
   ],
   "metadata": {
    "collapsed": false
   },
   "id": "15a69d84ace08f97"
  },
  {
   "cell_type": "code",
   "execution_count": 58,
   "outputs": [
    {
     "data": {
      "text/plain": "        v1                                                 v2  label\n0      ham  Go until jurong point, crazy.. Available only ...      0\n1      ham                      Ok lar... Joking wif u oni...      0\n2     spam  Free entry in 2 a wkly comp to win FA Cup fina...      1\n3      ham  U dun say so early hor... U c already then say...      0\n4      ham  Nah I don't think he goes to usf, he lives aro...      0\n...    ...                                                ...    ...\n5567  spam  This is the 2nd time we have tried 2 contact u...      1\n5568   ham              Will Ì_ b going to esplanade fr home?      0\n5569   ham  Pity, * was in mood for that. So...any other s...      0\n5570   ham  The guy did some bitching but I acted like i'd...      0\n5571   ham                         Rofl. Its true to its name      0\n\n[5572 rows x 3 columns]",
      "text/html": "<div>\n<style scoped>\n    .dataframe tbody tr th:only-of-type {\n        vertical-align: middle;\n    }\n\n    .dataframe tbody tr th {\n        vertical-align: top;\n    }\n\n    .dataframe thead th {\n        text-align: right;\n    }\n</style>\n<table border=\"1\" class=\"dataframe\">\n  <thead>\n    <tr style=\"text-align: right;\">\n      <th></th>\n      <th>v1</th>\n      <th>v2</th>\n      <th>label</th>\n    </tr>\n  </thead>\n  <tbody>\n    <tr>\n      <th>0</th>\n      <td>ham</td>\n      <td>Go until jurong point, crazy.. Available only ...</td>\n      <td>0</td>\n    </tr>\n    <tr>\n      <th>1</th>\n      <td>ham</td>\n      <td>Ok lar... Joking wif u oni...</td>\n      <td>0</td>\n    </tr>\n    <tr>\n      <th>2</th>\n      <td>spam</td>\n      <td>Free entry in 2 a wkly comp to win FA Cup fina...</td>\n      <td>1</td>\n    </tr>\n    <tr>\n      <th>3</th>\n      <td>ham</td>\n      <td>U dun say so early hor... U c already then say...</td>\n      <td>0</td>\n    </tr>\n    <tr>\n      <th>4</th>\n      <td>ham</td>\n      <td>Nah I don't think he goes to usf, he lives aro...</td>\n      <td>0</td>\n    </tr>\n    <tr>\n      <th>...</th>\n      <td>...</td>\n      <td>...</td>\n      <td>...</td>\n    </tr>\n    <tr>\n      <th>5567</th>\n      <td>spam</td>\n      <td>This is the 2nd time we have tried 2 contact u...</td>\n      <td>1</td>\n    </tr>\n    <tr>\n      <th>5568</th>\n      <td>ham</td>\n      <td>Will Ì_ b going to esplanade fr home?</td>\n      <td>0</td>\n    </tr>\n    <tr>\n      <th>5569</th>\n      <td>ham</td>\n      <td>Pity, * was in mood for that. So...any other s...</td>\n      <td>0</td>\n    </tr>\n    <tr>\n      <th>5570</th>\n      <td>ham</td>\n      <td>The guy did some bitching but I acted like i'd...</td>\n      <td>0</td>\n    </tr>\n    <tr>\n      <th>5571</th>\n      <td>ham</td>\n      <td>Rofl. Its true to its name</td>\n      <td>0</td>\n    </tr>\n  </tbody>\n</table>\n<p>5572 rows × 3 columns</p>\n</div>"
     },
     "execution_count": 58,
     "metadata": {},
     "output_type": "execute_result"
    }
   ],
   "source": [
    "data = pd.read_csv('spam.csv',delimiter=',',encoding = \"ISO-8859-1\")\n",
    "data = data[['v1','v2']]\n",
    "data['label'] = data.v1.map({'ham':0,'spam':1})\n",
    "data"
   ],
   "metadata": {
    "collapsed": false,
    "ExecuteTime": {
     "end_time": "2023-11-01T23:21:39.624279900Z",
     "start_time": "2023-11-01T23:21:39.533194700Z"
    }
   },
   "id": "863745664705c14d"
  },
  {
   "cell_type": "markdown",
   "source": [
    "## 2. 划分数据集"
   ],
   "metadata": {
    "collapsed": false
   },
   "id": "d2924c2d979ecbcd"
  },
  {
   "cell_type": "code",
   "execution_count": 59,
   "outputs": [],
   "source": [
    "from sklearn.model_selection import train_test_split\n",
    "X = data['v2']\n",
    "y = data['label']\n"
   ],
   "metadata": {
    "collapsed": false,
    "ExecuteTime": {
     "end_time": "2023-11-01T23:21:39.633103500Z",
     "start_time": "2023-11-01T23:21:39.566057100Z"
    }
   },
   "id": "bcb32d310505c181"
  },
  {
   "cell_type": "code",
   "execution_count": 60,
   "outputs": [
    {
     "data": {
      "text/plain": "<Figure size 640x480 with 1 Axes>",
      "image/png": "[encoded data removed]"
     },
     "metadata": {},
     "output_type": "display_data"
    }
   ],
   "source": [
    "from  sklearn.decomposition import PCA\n",
    "count_vector = CountVectorizer(stop_words='english')\n",
    "X = count_vector.fit_transform(X)\n",
    "X_array = X.toarray()\n",
    "pca = PCA(n_components=2)\n",
    "X_pca = pca.fit_transform(X_array)\n",
    "plt.figure(figsize=(8,6))\n",
    "plt.scatter(X_pca[:,0],X_pca[:,1],c='r')\n",
    "plt.show()"
   ],
   "metadata": {
    "collapsed": false,
    "ExecuteTime": {
     "end_time": "2023-11-01T23:21:41.003189Z",
     "start_time": "2023-11-01T23:21:39.573744700Z"
    }
   },
   "id": "5ab5c53d2f96f75d"
  },
  {
   "cell_type": "markdown",
   "source": [
    "## 3. 降维和处理文本"
   ],
   "metadata": {
    "collapsed": false
   },
   "id": "3bb21c4219e9f38e"
  },
  {
   "cell_type": "code",
   "execution_count": 61,
   "outputs": [
    {
     "data": {
      "text/plain": "LogisticRegression()",
      "text/html": "<style>#sk-container-id-4 {color: black;}#sk-container-id-4 pre{padding: 0;}#sk-container-id-4 div.sk-toggleable {background-color: white;}#sk-container-id-4 label.sk-toggleable__label {cursor: pointer;display: block;width: 100%;margin-bottom: 0;padding: 0.3em;box-sizing: border-box;text-align: center;}#sk-container-id-4 label.sk-toggleable__label-arrow:before {content: \"▸\";float: left;margin-right: 0.25em;color: #696969;}#sk-container-id-4 label.sk-toggleable__label-arrow:hover:before {color: black;}#sk-container-id-4 div.sk-estimator:hover label.sk-toggleable__label-arrow:before {color: black;}#sk-container-id-4 div.sk-toggleable__content {max-height: 0;max-width: 0;overflow: hidden;text-align: left;background-color: #f0f8ff;}#sk-container-id-4 div.sk-toggleable__content pre {margin: 0.2em;color: black;border-radius: 0.25em;background-color: #f0f8ff;}#sk-container-id-4 input.sk-toggleable__control:checked~div.sk-toggleable__content {max-height: 200px;max-width: 100%;overflow: auto;}#sk-container-id-4 input.sk-toggleable__control:checked~label.sk-toggleable__label-arrow:before {content: \"▾\";}#sk-container-id-4 div.sk-estimator input.sk-toggleable__control:checked~label.sk-toggleable__label {background-color: #d4ebff;}#sk-container-id-4 div.sk-label input.sk-toggleable__control:checked~label.sk-toggleable__label {background-color: #d4ebff;}#sk-container-id-4 input.sk-hidden--visually {border: 0;clip: rect(1px 1px 1px 1px);clip: rect(1px, 1px, 1px, 1px);height: 1px;margin: -1px;overflow: hidden;padding: 0;position: absolute;width: 1px;}#sk-container-id-4 div.sk-estimator {font-family: monospace;background-color: #f0f8ff;border: 1px dotted black;border-radius: 0.25em;box-sizing: border-box;margin-bottom: 0.5em;}#sk-container-id-4 div.sk-estimator:hover {background-color: #d4ebff;}#sk-container-id-4 div.sk-parallel-item::after {content: \"\";width: 100%;border-bottom: 1px solid gray;flex-grow: 1;}#sk-container-id-4 div.sk-label:hover label.sk-toggleable__label {background-color: #d4ebff;}#sk-container-id-4 div.sk-serial::before {content: \"\";position: absolute;border-left: 1px solid gray;box-sizing: border-box;top: 0;bottom: 0;left: 50%;z-index: 0;}#sk-container-id-4 div.sk-serial {display: flex;flex-direction: column;align-items: center;background-color: white;padding-right: 0.2em;padding-left: 0.2em;position: relative;}#sk-container-id-4 div.sk-item {position: relative;z-index: 1;}#sk-container-id-4 div.sk-parallel {display: flex;align-items: stretch;justify-content: center;background-color: white;position: relative;}#sk-container-id-4 div.sk-item::before, #sk-container-id-4 div.sk-parallel-item::before {content: \"\";position: absolute;border-left: 1px solid gray;box-sizing: border-box;top: 0;bottom: 0;left: 50%;z-index: -1;}#sk-container-id-4 div.sk-parallel-item {display: flex;flex-direction: column;z-index: 1;position: relative;background-color: white;}#sk-container-id-4 div.sk-parallel-item:first-child::after {align-self: flex-end;width: 50%;}#sk-container-id-4 div.sk-parallel-item:last-child::after {align-self: flex-start;width: 50%;}#sk-container-id-4 div.sk-parallel-item:only-child::after {width: 0;}#sk-container-id-4 div.sk-dashed-wrapped {border: 1px dashed gray;margin: 0 0.4em 0.5em 0.4em;box-sizing: border-box;padding-bottom: 0.4em;background-color: white;}#sk-container-id-4 div.sk-label label {font-family: monospace;font-weight: bold;display: inline-block;line-height: 1.2em;}#sk-container-id-4 div.sk-label-container {text-align: center;}#sk-container-id-4 div.sk-container {/* jupyter's `normalize.less` sets `[hidden] { display: none; }` but bootstrap.min.css set `[hidden] { display: none !important; }` so we also need the `!important` here to be able to override the default hidden behavior on the sphinx rendered scikit-learn.org. See: https://github.com/scikit-learn/scikit-learn/issues/21755 */display: inline-block !important;position: relative;}#sk-container-id-4 div.sk-text-repr-fallback {display: none;}</style><div id=\"sk-container-id-4\" class=\"sk-top-container\"><div class=\"sk-text-repr-fallback\"><pre>LogisticRegression()</pre><b>In a Jupyter environment, please rerun this cell to show the HTML representation or trust the notebook. <br />On GitHub, the HTML representation is unable to render, please try loading this page with nbviewer.org.</b></div><div class=\"sk-container\" hidden><div class=\"sk-item\"><div class=\"sk-estimator sk-toggleable\"><input class=\"sk-toggleable__control sk-hidden--visually\" id=\"sk-estimator-id-4\" type=\"checkbox\" checked><label for=\"sk-estimator-id-4\" class=\"sk-toggleable__label sk-toggleable__label-arrow\">LogisticRegression</label><div class=\"sk-toggleable__content\"><pre>LogisticRegression()</pre></div></div></div></div></div>"
     },
     "execution_count": 61,
     "metadata": {},
     "output_type": "execute_result"
    }
   ],
   "source": [
    "from sklearn.linear_model import LogisticRegression\n",
    "X_train,X_test,y_tain,y_test = train_test_split(X_pca,y)\n",
    "classfier = LogisticRegression()\n",
    "classfier.fit(X_train,y_tain)"
   ],
   "metadata": {
    "collapsed": false,
    "ExecuteTime": {
     "end_time": "2023-11-01T23:21:41.033128300Z",
     "start_time": "2023-11-01T23:21:40.999080200Z"
    }
   },
   "id": "bf83214024fa67ab"
  },
  {
   "cell_type": "markdown",
   "source": [
    "## 4. 模型评估"
   ],
   "metadata": {
    "collapsed": false
   },
   "id": "b076396ecb11812b"
  },
  {
   "cell_type": "code",
   "execution_count": 62,
   "outputs": [
    {
     "name": "stdout",
     "output_type": "stream",
     "text": [
      "0.87724335965542\n"
     ]
    }
   ],
   "source": [
    "from sklearn.metrics import accuracy_score\n",
    "y_pre = classfier.predict(X_test)\n",
    "accuracy = accuracy_score(y_test,y_pre)\n",
    "print(accuracy)"
   ],
   "metadata": {
    "collapsed": false,
    "ExecuteTime": {
     "end_time": "2023-11-01T23:21:41.072312500Z",
     "start_time": "2023-11-01T23:21:41.023109500Z"
    }
   },
   "id": "c19e85f3c3069585"
  },
  {
   "cell_type": "markdown",
   "source": [
    "## 5. 寻找最优PCA降维维度"
   ],
   "metadata": {
    "collapsed": false
   },
   "id": "24a6f78caad49784"
  },
  {
   "cell_type": "code",
   "execution_count": 63,
   "outputs": [
    {
     "name": "stderr",
     "output_type": "stream",
     "text": [
      "100%|██████████| 9/9 [00:08<00:00,  1.03it/s]\n"
     ]
    },
    {
     "name": "stdout",
     "output_type": "stream",
     "text": [
      "The best demission is 9\n"
     ]
    },
    {
     "data": {
      "text/plain": "<Figure size 640x480 with 1 Axes>",
      "image/png": "[encoded data removed]"
     },
     "metadata": {},
     "output_type": "display_data"
    }
   ],
   "source": [
    "from tqdm.std import trange\n",
    "maxIterrtion = 10\n",
    "all_accuray = []\n",
    "for i in trange(1,maxIterrtion):\n",
    "    pca = PCA(n_components=i)\n",
    "    X_pca = pca.fit_transform(X_array)\n",
    "    X_train,X_test,y_tain,y_test = train_test_split(X_pca,y)\n",
    "    classfier = LogisticRegression()\n",
    "    classfier.fit(X_train,y_tain)\n",
    "    y_pre = classfier.predict(X_test)\n",
    "    accuracy = accuracy_score(y_test,y_pre)\n",
    "    all_accuray.append(accuracy)\n",
    "print(f'The best demission is {np.argmax(all_accuray) + 1}')\n",
    "best_pca = PCA(n_components=np.argmax(all_accuray) + 1)\n",
    "plt.plot(range(1,maxIterrtion),all_accuray)\n",
    "plt.xlabel('demission')\n",
    "plt.ylabel('accuracy')\n",
    "plt.title('The best demission')\n",
    "plt.show()\n"
   ],
   "metadata": {
    "collapsed": false,
    "ExecuteTime": {
     "end_time": "2023-11-01T23:21:50.087969300Z",
     "start_time": "2023-11-01T23:21:41.038155900Z"
    }
   },
   "id": "8f878ede57a5647c"
  },
  {
   "cell_type": "code",
   "execution_count": 64,
   "outputs": [
    {
     "name": "stdout",
     "output_type": "stream",
     "text": [
      "The best demission accuracy is 0.9605168700646087\n"
     ]
    }
   ],
   "source": [
    "X_pca = pca.fit_transform(X_array)\n",
    "X_train,X_test,y_tain,y_test = train_test_split(X_pca,y)\n",
    "classfier = LogisticRegression()\n",
    "classfier.fit(X_train,y_tain)\n",
    "y_pre = classfier.predict(X_test)\n",
    "accuracy = accuracy_score(y_test,y_pre)\n",
    "print(f'The best demission accuracy is {accuracy}')"
   ],
   "metadata": {
    "collapsed": false,
    "ExecuteTime": {
     "end_time": "2023-11-01T23:21:51.135129500Z",
     "start_time": "2023-11-01T23:21:50.082946600Z"
    }
   },
   "id": "228d75df225b652d"
  },
  {
   "cell_type": "markdown",
   "source": [
    "## 6. 真实场景使用"
   ],
   "metadata": {
    "collapsed": false
   },
   "id": "a50d9afcc206fb5f"
  },
  {
   "cell_type": "code",
   "execution_count": 65,
   "outputs": [
    {
     "name": "stdout",
     "output_type": "stream",
     "text": [
      "\"Free entry in 2 a wkly comp to win FA Cup final tkts 21st May 2005. Text FA to 87121 to receive entry question(std txt rate)T&C\" is not spam\n",
      "\"Who are you\" is spam\n",
      "\"Hi how are you\" is not spam\n",
      "\"I am fine\" is spam\n",
      "\"I am fine thank you\" is spam\n",
      "\"I am fine thank you and you\" is spam\n",
      "\"I will go to school tomorrow\" is not spam\n",
      "\"Hi professor\" is not spam\n",
      "\"I am a student\" is not spam\n"
     ]
    }
   ],
   "source": [
    "test_sentence = ['Free entry in 2 a wkly comp to win FA Cup final tkts 21st May 2005. Text FA to 87121 to receive entry question(std txt rate)T&C',\n",
    "                 'Who are you',\n",
    "                 'Hi how are you',\n",
    "                 'I am fine',\n",
    "                    'I am fine thank you',\n",
    "                    'I am fine thank you and you',\n",
    "                    'I will go to school tomorrow',\n",
    "                    'Hi professor',\n",
    "                    'I am a student']\n",
    "t = np.copy(test_sentence)\n",
    "test_sentence = count_vector.transform(test_sentence)\n",
    "test_sentence = test_sentence.toarray()\n",
    "test_sentence = best_pca.fit_transform(test_sentence)\n",
    "funnyAns = classfier.predict(test_sentence)\n",
    "for i in range(len(funnyAns)):\n",
    "    if funnyAns[i] == 0:\n",
    "        print(f'\"{t[i]}\" is not spam')\n",
    "    else:\n",
    "        print(f'\"{t[i]}\" is spam')\n",
    "        "
   ],
   "metadata": {
    "collapsed": false,
    "ExecuteTime": {
     "end_time": "2023-11-01T23:21:51.163249100Z",
     "start_time": "2023-11-01T23:21:51.123178600Z"
    }
   },
   "id": "4feeb958efd35ea"
  },
  {
   "cell_type": "code",
   "execution_count": 65,
   "outputs": [],
   "source": [],
   "metadata": {
    "collapsed": false,
    "ExecuteTime": {
     "end_time": "2023-11-01T23:21:51.163249100Z",
     "start_time": "2023-11-01T23:21:51.143182800Z"
    }
   },
   "id": "bafb85e3e4e318fa"
  }
 ],
 "metadata": {
  "kernelspec": {
   "display_name": "Python 3",
   "language": "python",
   "name": "python3"
  },
  "language_info": {
   "codemirror_mode": {
    "name": "ipython",
    "version": 2
   },
   "file_extension": ".py",
   "mimetype": "text/x-python",
   "name": "python",
   "nbconvert_exporter": "python",
   "pygments_lexer": "ipython2",
   "version": "2.7.6"
  }
 },
 "nbformat": 4,
 "nbformat_minor": 5
}
